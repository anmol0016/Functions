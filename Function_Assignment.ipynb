{
  "nbformat": 4,
  "nbformat_minor": 0,
  "metadata": {
    "colab": {
      "provenance": []
    },
    "kernelspec": {
      "name": "python3",
      "display_name": "Python 3"
    },
    "language_info": {
      "name": "python"
    }
  },
  "cells": [
    {
      "cell_type": "markdown",
      "source": [
        "1. What is the difference between a function and a method in Python?"
      ],
      "metadata": {
        "id": "lrR7s4Zr9oq7"
      }
    },
    {
      "cell_type": "markdown",
      "source": [
        " - Function :\n",
        "\n",
        "    function is defined by \"def\" keyword, it is called by its name from anywhere in the program it doesn't need object to be called.\n",
        "\n",
        "    eg : print(), len(), sum().....\n",
        "\n",
        "- Method :\n",
        "\n",
        "  Method is also defined by \"def\" keyword , but within a class,it is called with the object of the class,it is called by using dot notation on an object.\n",
        "  \n",
        "  eg: list.append(), string.upper(),\n",
        "   list.reverse()....\n"
      ],
      "metadata": {
        "id": "QSX1Z-lv9ruH"
      }
    },
    {
      "cell_type": "markdown",
      "source": [
        "2.Explain the concept of function arguments and parameters in Python."
      ],
      "metadata": {
        "id": "756WeymaAwEh"
      }
    },
    {
      "cell_type": "markdown",
      "source": [
        "- parameters :\n",
        "\n",
        "    it is the placeholder for the values that will be passed into the function when it is called.\n",
        "\n",
        "    eg:\n",
        "  ```\n",
        "    def greet(name, greeting):\n",
        "      print(f\"{greeting},{name}!\")\n",
        "  ```\n",
        "\n",
        "  where  \"name\" and \"greeting\" are the parameters.\n",
        "\n",
        "- Argument :\n",
        "\n",
        "    Arguments are the actual value that are passed to the function when it is called.\n",
        "\n",
        "    eg:\n",
        "\n",
        "  ```\n",
        "  greet(\"Anmol\", \"hello!\")\n",
        "  ```\n",
        "  where \"Anmol\" is actual value of \"name\" and \"hello!\" is the actual value of greeting .hence 'Anmol' & 'hello!' are the arguments.\n",
        "\n"
      ],
      "metadata": {
        "id": "zZUpquBXA65O"
      }
    },
    {
      "cell_type": "markdown",
      "source": [
        "3.What are the different ways to define and call a function in Python?"
      ],
      "metadata": {
        "id": "GB-Z2swlF7gy"
      }
    },
    {
      "cell_type": "markdown",
      "source": [
        "- defining function:\n",
        "\n",
        "```\n",
        "#1\n",
        "def my_function(parameter1, parameter2):\n",
        "  result = parameter1 + parameter2\n",
        "  return result\n",
        "\n",
        "#2\n",
        "def my_function(name):\n",
        "  print(\"welcome to the college\" , name )\n",
        "```\n",
        "- def: Keyword to begin a function definition.\n",
        "- my_function: The name of the function. Choose a descriptive name following Python's naming conventions (lowercase with underscores).\n",
        "- (parameter1, parameter2): Parentheses enclose the function's parameters (optional). These are the values the function expects to receive.\n",
        "- **':'** : A colon marks the end of the function header.\n",
        "- Docstring: A string literal (usually enclosed in triple quotes) immediately after the function header. It explains the function's purpose, arguments, and return value. This is good practice for code readability and documentation.\n",
        "- Function body: The indented block of code that performs the function's task.\n",
        "- return: Keyword to send a value back from the function (optional). If return is not used, the function returns None by default.\n",
        "\n",
        "\n",
        "- **calling function** :\n",
        "\n",
        "- Positional Arguments: The most common way. Arguments are matched to parameters based on their position. The first argument goes to the first parameter, the second to the second, and so on.\n",
        "```\n",
        "def greet(name, message):\n",
        "  print(f\"{message}, {name}!\")\n",
        "\n",
        "greet(\"Mayank\", \"Hello\") # Output: Hello, Mayank!\n",
        "```\n",
        "- Keyword Arguments: Arguments are identified by the parameter name, allowing you to pass them in any order. This improves readability, especially for functions with many parameters.\n",
        "```\n",
        "def greet(name, message):\n",
        "  print(f\"{message}, {name}!\")\n",
        "\n",
        "greet(message=\"Hi\", name=\"PW skills\") # Output: Hi, PW skills!\n",
        "```\n",
        "- Default Arguments: You can assign a default value to a parameter in the function definition. If an argument is not provided for that parameter when calling the function, the default value is used.\n",
        "```\n",
        "def greet(name, message=\"Hello\"):\n",
        "  print(f\"{message}, {name}!\")\n",
        "\n",
        "greet(\"Anmol\")         # Output: Hello, Anmol!\n",
        "greet(\"Anmol\", \"welcome\")    # Output: welcome, Anmol!\n",
        "```\n",
        "- Arbitrary Positional Arguments (*args): If you don't know how many positional arguments a function will receive, you can use *args as a parameter. It collects all extra positional arguments into a tuple.\n",
        "```\n",
        "def sum_all(*args):\n",
        "  return sum(args)\n",
        "\n",
        "print(sum_all(1, 2, 3, 4)) # Output: 10\n",
        "```\n",
        "- Arbitrary Keyword Arguments (**kwargs): If you don't know how many keyword arguments a function will receive, you can use **kwargs as a parameter. It collects all extra keyword arguments into a dictionary.\n",
        "```\n",
        "def print_info(**kwargs):\n",
        "  for key, value in kwargs.items():\n",
        "    print(f\"{key}: {value}\")\n",
        "\n",
        "print_info(name=\"Anmol\", age=22, city=\"hajipur\")\n",
        "# Output:\n",
        "# name: Anmol\n",
        "# age:22\n",
        "# city: hajipur\n",
        "```"
      ],
      "metadata": {
        "id": "A0BxDzRlGKnM"
      }
    },
    {
      "cell_type": "markdown",
      "source": [
        "4. What is the purpose of the `return` statement in a Python function?"
      ],
      "metadata": {
        "id": "OoaEGyRfMsU5"
      }
    },
    {
      "cell_type": "markdown",
      "source": [
        "The return statement in a Python function is used to exit the function and send a value back to the caller.\n",
        "\n",
        "Here's a breakdown of its purpose:\n",
        "\n",
        "- Sending a Value Back: The primary purpose of return is to allow a function to produce a result that can be used elsewhere in the program. Without a return statement that specifies a value, a function will implicitly return None.\n",
        "```\n",
        "def add(a, b):\n",
        "  result = a + b\n",
        "  return result # Returning the sum\n",
        "\n",
        "sum_of_numbers = add(5, 3)\n",
        "print(sum_of_numbers) # Output: 8\n",
        "```\n",
        "- Exiting the Function: When a return statement is encountered in a function, the function immediately stops executing, and the program control is transferred back to the point where the function was called. Any code within the function after the return statement will not be executed.\n",
        "```\n",
        "def greet(name):\n",
        "  if name == \"Alice\":\n",
        "    return \"Hello, Alice!\" # Function exits here if name is Alice\n",
        "  print(\"Welcome!\") # This line is not executed if name is Alice\n",
        "  return f\"Hello, {name}!\"\n",
        "\n",
        "print(greet(\"Alice\")) # Output: Hello, Alice!\n",
        "print(greet(\"Bob\"))   # Output: Welcome! \\n Hello, Bob!\n",
        "```\n",
        "- Returning Multiple Values: While a function can only have one return statement that is executed, you can return multiple values by packaging them into a single object, such as a tuple, list, or dictionary.\n",
        "```\n",
        "def get_coordinates():\n",
        "  x = 10\n",
        "  y = 20\n",
        "  return (x, y) # Returning a tuple\n",
        "\n",
        "coords = get_coordinates()\n",
        "print(coords)      # Output: (10, 20)\n",
        "print(coords[0])   # Output: 10\n",
        "print(coords[1])   # Output: 20\n",
        "```"
      ],
      "metadata": {
        "id": "1_bjV_FJM2Dv"
      }
    },
    {
      "cell_type": "markdown",
      "source": [
        "5.What are iterators in Python and how do they differ from iterables?"
      ],
      "metadata": {
        "id": "VkQCKJVqNyO9"
      }
    },
    {
      "cell_type": "markdown",
      "source": [
        "- **Iterators:**\n",
        "\n",
        "  An iterator is an object that represents a stream of data. It's what actually performs the iteration. An iterator must have two methods:\n",
        "\n",
        "- __iter__(): This method returns the iterator object itself. This is required so that iterator objects can be used in for loops and other iteration contexts.\n",
        "- __next__(): This method returns the next item from the stream. If there are no more items, it should raise the StopIteration exception.\n",
        "- **How they differ:**\n",
        "\n",
        "  The key difference is that an iterable is something you can loop over, while an iterator is an object that keeps track of the current position during iteration.\n",
        "\n",
        "    - An iterable provides an iterator.\n",
        "    - An iterator produces the next item in the\n",
        "  sequence.\n",
        "\n",
        "  Think of an iterable as a book, and an iterator as a bookmark. The book (iterable) contains all the content you want to read (iterate over). The bookmark (iterator) keeps track of where you are in the book. You can get a new bookmark for the same book to start reading from the beginning again.\n",
        "\n",
        "Here's a simple code example to illustrate:\n",
        "```\n",
        "# A list is an iterable\n",
        "my_list = [1, 2, 3]\n",
        "\n",
        "# Get an iterator from the iterable\n",
        "my_iterator = iter(my_list)\n",
        "\n",
        "# Use the iterator to get the next elements\n",
        "print(next(my_iterator)) # Output: 1\n",
        "print(next(my_iterator)) # Output: 2\n",
        "print(next(my_iterator)) # Output: 3\n",
        "\n",
        "# This will raise StopIteration because there are no more elements\n",
        "# print(next(my_iterator))\n",
        "```\n",
        "In this example, my_list is the iterable. iter(my_list) returns an iterator object, which we store in my_iterator. We then use next(my_iterator) to get the elements one by one."
      ],
      "metadata": {
        "id": "EQYQTho-N8QY"
      }
    },
    {
      "cell_type": "markdown",
      "source": [
        "6.Explain the concept of generators in Python and how they are defined.\n",
        "\n"
      ],
      "metadata": {
        "id": "1nYpfKQ5P9Er"
      }
    },
    {
      "cell_type": "markdown",
      "source": [
        "- concept of generators :\n",
        "\n",
        "  When a generator function is called, it doesn't execute the code immediately. Instead, it returns a generator object. The code in the generator function only runs when next() is called on the generator object (either explicitly or implicitly by a loop).\n",
        "\n",
        "  When the yield statement is encountered, the generator pauses its execution and returns the value specified after yield. The state of the function (including the values of local variables and the exact line of code where the yield occurred) is saved. When next() is called again, the generator resumes execution from where it left off, continuing until the next yield or the function finishes.\n",
        "\n",
        "  If the generator function finishes without a yield statement, or if a return statement is executed (without a value), a StopIteration exception is raised, signaling that there are no more items to yield.\n",
        "\n",
        "- Defining Generators:\n",
        "\n",
        "  There are two main ways to define generators in Python:\n",
        "\n",
        "- Generator Functions: These are defined like regular functions using the def keyword, but they use the yield statement instead of return to produce values.\n",
        "```\n",
        "def count_up_to(n):\n",
        "  i = 1\n",
        "  while i <= n:\n",
        "    yield i  # Yield the current value\n",
        "    i += 1\n",
        "\n",
        "# Create a generator object\n",
        "my_generator = count_up_to(5)\n",
        "\n",
        "# Iterate through the generated values\n",
        "print(next(my_generator)) # Output: 1\n",
        "print(next(my_generator)) # Output: 2\n",
        "print(next(my_generator)) # Output: 3\n",
        "print(next(my_generator)) # Output: 4\n",
        "print(next(my_generator)) # Output: 5\n",
        "\n",
        "# Using a for loop (implicitly calls next())\n",
        "for number in count_up_to(3):\n",
        "  print(number)\n",
        "# Output:\n",
        "# 1\n",
        "# 2\n",
        "# 3\n",
        "```\n",
        "- Generator Expressions: These are similar to list comprehensions but use parentheses () instead of square brackets [ ]. They are a concise way to create simple generators.\n",
        "```\n",
        "my_list = [1, 2, 3, 4, 5]\n",
        "\n",
        "# Create a generator expression\n",
        "my_generator_expression = (x * x for x in my_list)\n",
        "\n",
        "# Iterate through the generated values\n",
        "print(next(my_generator_expression)) # Output: 1\n",
        "print(next(my_generator_expression)) # Output: 4\n",
        "\n",
        "# Using a for loop\n",
        "for squared_number in (x * x for x in range(5)):\n",
        "  print(squared_number)\n",
        "# Output:\n",
        "# 0\n",
        "# 1\n",
        "# 4\n",
        "# 9\n",
        "# 16\n",
        "```"
      ],
      "metadata": {
        "id": "7EssBYPlQPS8"
      }
    },
    {
      "cell_type": "markdown",
      "source": [
        "7. What are the advantages of using generators over regular functions?"
      ],
      "metadata": {
        "id": "Fz9LrsTTSEby"
      }
    },
    {
      "cell_type": "markdown",
      "source": [
        "Here are the key advantages of using generators in Python:\n",
        "\n",
        "- Memory Efficiency: Generators produce items one by one as they are needed, rather than creating the entire sequence in memory at once. This is crucial for large datasets or infinite sequences, preventing MemoryError and reducing memory consumption.\n",
        "- Performance for Large Datasets: Because generators yield items on demand, you can start processing the first items immediately without waiting for the entire sequence to be generated. This can lead to better performance, especially when you don't need to use every item in the sequence.\n",
        "- Lazy Evaluation: Values are generated only when explicitly requested (e.g., by calling next() or in a loop). This \"lazy\" approach saves computational resources.\n",
        "- Infinite Sequences: Generators are the standard way to create sequences that are theoretically infinite, as they don't attempt to store all elements simultaneously.\n",
        "- Cleaner and More Concise Code: Generators, particularly generator functions using yield, often provide a more straightforward way to create iterators compared to writing a class with iterator methods (__iter__ and __next__).\n",
        "- Data Pipelining: Generators can be easily linked together to form efficient data processing pipelines, where the output of one generator feeds directly into the input of another."
      ],
      "metadata": {
        "id": "0dfVlQVWSS24"
      }
    },
    {
      "cell_type": "markdown",
      "source": [
        "8. What is a lambda function in Python and when is it typically used?"
      ],
      "metadata": {
        "id": "cg9HIwPuTYBE"
      }
    },
    {
      "cell_type": "markdown",
      "source": [
        "A lambda function in Python is a small, anonymous function defined with the lambda keyword. It's also known as a lambda expression.\n",
        "\n",
        "Here are the key characteristics of lambda functions:\n",
        "\n",
        "- Anonymous: They don't have a name like regular functions defined with def.\n",
        "- Single Expression: A lambda function can only contain a single expression, which is implicitly returned. You cannot have multiple statements or complex logic within a lambda function.\n",
        "- Syntax: The basic syntax is lambda arguments: expression.\n",
        "Here's a simple example:\n",
        "```\n",
        "# Regular function\n",
        "def add(x, y):\n",
        "  return x + y\n",
        "\n",
        "# Equivalent lambda function\n",
        "add_lambda = lambda x, y: x + y\n",
        "\n",
        "print(add(2, 3))       # Output: 5\n",
        "print(add_lambda(2, 3)) # Output: 5\n",
        "```\n",
        "When is it typically used?\n",
        "\n",
        "Lambda functions are typically used in situations where you need a small, simple function for a short period and don't want to formally define a function using def. They are commonly used with higher-order functions, which are functions that take other functions as arguments or return functions.\n",
        "\n",
        "Some common use cases include:\n",
        "\n",
        "- Sorting: You can use lambda functions as the key argument in the sorted() function or the .sort() method to define a custom sorting order.\n",
        "```\n",
        "my_list = [(1, 'b'), (3, 'a'), (2, 'c')]\n",
        "sorted_list = sorted(my_list, key=lambda item: item[1])\n",
        "print(sorted_list) # Output: [(3, 'a'), (1, 'b'), (2, 'c')]\n",
        "```\n",
        "- map( ), filter( ), and reduce( ): Lambda functions are often used with these built-in functions for applying a function to each item in an iterable (map), filtering items based on a condition (filter), or cumulatively applying a function to the items (reduce).\n",
        "```\n",
        "numbers = [1, 2, 3, 4, 5]\n",
        "\n",
        "# Using lambda with map to square each number\n",
        "squared_numbers = list(map(lambda x: x**2, numbers))\n",
        "print(squared_numbers) # Output: [1, 4, 9, 16, 25]\n",
        "\n",
        "# Using lambda with filter to get even numbers\n",
        "even_numbers = list(filter(lambda x: x % 2 == 0, numbers))\n",
        "print(even_numbers) # Output: [2, 4]\n",
        "\n",
        "# Using lambda with reduce to find the product (requires importing reduce)\n",
        "from functools import reduce\n",
        "product = reduce(lambda x, y: x * y, numbers)\n",
        "print(product) # Output: 120\n",
        "```\n",
        "- GUI Programming: In some GUI toolkits, lambda functions are used for simple callbacks or event handlers.\n",
        "\n",
        "While lambda functions can make code more concise, it's important to use them judiciously. For more complex logic or functions that will be reused, a regular def function is generally preferred for readability and maintainability."
      ],
      "metadata": {
        "id": "jTPEqTRoSPyz"
      }
    },
    {
      "cell_type": "markdown",
      "source": [
        "9.Explain the purpose and usage of the `map()` function in Python."
      ],
      "metadata": {
        "id": "8bpCJcu1VL-G"
      }
    },
    {
      "cell_type": "markdown",
      "source": [
        "The map() function is a built-in Python function that is used to apply a given function to each item of an iterable (like a list, tuple, etc.) and return an iterator that yields the results.\n",
        "\n",
        "- Purpose:\n",
        "\n",
        "  The main purpose of map() is to perform the same operation on every element of a sequence without explicitly writing a for loop. This can make your code more concise and sometimes more readable, especially for simple operations.\n",
        "\n",
        "- Usage:\n",
        "\n",
        "  The syntax for map() is:\n",
        "  ```\n",
        "  map(function, iterable)\n",
        "  ```\n",
        "- function: The function to apply to each item of the iterable.\n",
        "- iterable: The sequence (list, tuple, string, etc.) whose elements will be passed to the function.\n",
        "\n",
        "map() returns an iterator. To get the results as a list or other sequence type, you typically convert the iterator using functions like list(), tuple(), etc.\n",
        "\n",
        "Examples:\n",
        "\n",
        "- Squaring numbers in a list:\n",
        "```\n",
        "def square(x):\n",
        "  return x * x\n",
        "\n",
        "numbers = [1, 2, 3, 4, 5]\n",
        "\n",
        "# Using map() to apply the square function to each number\n",
        "squared_numbers_iterator = map(square, numbers)\n",
        "\n",
        "# Convert the iterator to a list to see the results\n",
        "squared_numbers_list = list(squared_numbers_iterator)\n",
        "print(squared_numbers_list) # Output: [1, 4, 9, 16, 25]\n",
        "```\n",
        "- Using a lambda function with map(): As mentioned earlier, map() is often used with lambda functions for simple operations.\n",
        "```\n",
        "numbers = [1, 2, 3, 4, 5]\n",
        "\n",
        "# Using a lambda function to square each number\n",
        "squared_numbers_list = list(map(lambda x: x**2, numbers))\n",
        "print(squared_numbers_list) # Output: [1, 4, 9, 16, 25]\n",
        "```\n",
        "- Applying a function with multiple arguments: If the function you're mapping takes multiple arguments, you can provide multiple iterables to map(). map() will take corresponding elements from each iterable and pass them to the function.\n",
        "```\n",
        "def add(x, y):\n",
        "  return x + y\n",
        "\n",
        "list1 = [1, 2, 3]\n",
        "list2 = [4, 5, 6]\n",
        "\n",
        "# Adding corresponding elements from list1 and list2\n",
        "sum_list = list(map(add, list1, list2))\n",
        "print(sum_list) # Output: [5, 7, 9]\n",
        "```\n",
        "\n",
        "map() is a powerful function for applying transformations to elements of an iterable in a functional programming style. While list comprehensions can often achieve similar results and are sometimes considered more \"Pythonic\" for simple cases, map() remains a useful tool in your Python arsenal."
      ],
      "metadata": {
        "id": "u2fRPM3JVvEW"
      }
    },
    {
      "cell_type": "markdown",
      "source": [
        "10.What is the difference between `map()`, `reduce()`, and `filter()` functions in Python?"
      ],
      "metadata": {
        "id": "41m3Ucx9W-1V"
      }
    },
    {
      "cell_type": "markdown",
      "source": [
        "- map():\n",
        "\n",
        "  - Purpose: Applies a function to each item in an iterable and returns an iterator of the results. It's used for transforming each element in a sequence.\n",
        "  - Output: An iterator where each element is the result of applying the function to the corresponding element of the input iterable(s). The output sequence has the same number of elements as the input iterable(s).\n",
        "  - Example: Squaring each number in a list.\n",
        "```\n",
        "numbers = [1, 2, 3, 4, 5]\n",
        "squared_numbers = list(map(lambda x: x**2, numbers))\n",
        "print(squared_numbers) # Output: [1, 4, 9, 16, 25]\n",
        "```\n",
        "- filter():\n",
        "\n",
        "  - Purpose: Constructs an iterator from elements of an iterable for which a function returns true. It's used for selecting elements from a sequence based on a condition.\n",
        "  - Output: An iterator containing only the elements from the input iterable for which the function returned True. The output sequence can have fewer elements than the input.\n",
        "  - Example: Getting only the even numbers from a list.\n",
        "```\n",
        "numbers = [1, 2, 3, 4, 5]\n",
        "even_numbers = list(filter(lambda x: x % 2 == 0, numbers))\n",
        "print(even_numbers) # Output: [2, 4]\n",
        "```\n",
        "- reduce():\n",
        "\n",
        "  - Purpose: Applies a function of two arguments cumulatively to the items of a sequence, from left to right, so as to reduce the sequence to a single value. It's used for combining elements in a sequence into a single result.\n",
        "  - Output: A single value that is the result of the cumulative application of the function.\n",
        "Note: reduce() is not a built-in function in Python 3 and needs to be imported from the functools module.\n",
        "  - Example: Calculating the product of all numbers in a list.\n",
        "from functools import reduce`\n",
        "```\n",
        "numbers = [1, 2, 3, 4, 5]\n",
        "product = reduce(lambda x, y: x * y, numbers)\n",
        "print(product) # Output: 120\n",
        "```"
      ],
      "metadata": {
        "id": "qV3qCamEXGNB"
      }
    },
    {
      "cell_type": "markdown",
      "source": [
        "11. Using pen & Paper write the internal mechanism for sum operation using  reduce function on this given\n",
        "list:[47,11,42,13];"
      ],
      "metadata": {
        "id": "iWeHwqqbZDmk"
      }
    },
    {
      "cell_type": "markdown",
      "source": [
        "![WhatsApp Image 2025-08-28 at 9.43.52 PM.jpeg](data:image/jpeg;base64,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)"
      ],
      "metadata": {
        "id": "Xn7NThpTZm5z"
      }
    },
    {
      "cell_type": "markdown",
      "source": [
        "**PRACTICAL QUESTIONS**"
      ],
      "metadata": {
        "id": "37Hs_BboeBFK"
      }
    },
    {
      "cell_type": "markdown",
      "source": [
        "1.Write a Python function that takes a list of numbers as input and returns the sum of all even numbers in\n",
        "the list."
      ],
      "metadata": {
        "id": "osmB-nvAeHuN"
      }
    },
    {
      "cell_type": "code",
      "metadata": {
        "colab": {
          "base_uri": "https://localhost:8080/"
        },
        "id": "264e4473",
        "outputId": "84454e41-b734-4c1d-ea47-10016f823ecd"
      },
      "source": [
        "def sum_of_even_numbers(numbers):\n",
        "  \"\"\"\n",
        "  Calculates the sum of all even numbers in a list.\n",
        "\n",
        "  Args:\n",
        "    numbers: A list of numbers.\n",
        "\n",
        "  Returns:\n",
        "    The sum of all even numbers in the list.\n",
        "  \"\"\"\n",
        "  even_sum = 0\n",
        "  for number in numbers:\n",
        "    if number % 2 == 0:\n",
        "      even_sum += number\n",
        "  return even_sum\n",
        "\n",
        "# Example usage:\n",
        "my_list = [1, 2, 3, 4, 5, 6, 7, 8, 9, 10]\n",
        "result = sum_of_even_numbers(my_list)\n",
        "print(f\"The sum of even numbers in the list is: {result}\")\n",
        "\n",
        "my_list_2 = [15, 3, 7, 11]\n",
        "result_2 = sum_of_even_numbers(my_list_2)\n",
        "print(f\"The sum of even numbers in the list is: {result_2}\")"
      ],
      "execution_count": 1,
      "outputs": [
        {
          "output_type": "stream",
          "name": "stdout",
          "text": [
            "The sum of even numbers in the list is: 30\n",
            "The sum of even numbers in the list is: 0\n"
          ]
        }
      ]
    },
    {
      "cell_type": "markdown",
      "source": [
        "2.Create a Python function that accepts a string and returns the reverse of that string."
      ],
      "metadata": {
        "id": "9OgaT4UxfnpH"
      }
    },
    {
      "cell_type": "code",
      "metadata": {
        "colab": {
          "base_uri": "https://localhost:8080/"
        },
        "id": "692c77a4",
        "outputId": "21ab6236-750d-4efa-835a-8f2f3f6f8f7d"
      },
      "source": [
        "def reverse_string(input_string):\n",
        "  \"\"\"\n",
        "  Reverses a given string.\n",
        "\n",
        "  Args:\n",
        "    input_string: The string to reverse.\n",
        "\n",
        "  Returns:\n",
        "    The reversed string.\n",
        "  \"\"\"\n",
        "  return input_string[::-1]\n",
        "\n",
        "# Example usage:\n",
        "my_string = \"hello world\"\n",
        "reversed_string = reverse_string(my_string)\n",
        "print(f\"The original string is: {my_string}\")\n",
        "print(f\"The reversed string is: {reversed_string}\")\n",
        "\n"
      ],
      "execution_count": 4,
      "outputs": [
        {
          "output_type": "stream",
          "name": "stdout",
          "text": [
            "The original string is: hello world\n",
            "The reversed string is: dlrow olleh\n"
          ]
        }
      ]
    },
    {
      "cell_type": "markdown",
      "source": [
        "3. Implement a Python function that takes a list of integers and returns a new list containing the squares of\n",
        "each number."
      ],
      "metadata": {
        "id": "6OaxHGqkgApF"
      }
    },
    {
      "cell_type": "code",
      "metadata": {
        "colab": {
          "base_uri": "https://localhost:8080/"
        },
        "id": "842a42d6",
        "outputId": "a7af1473-99c2-4762-8c9d-472c4fc91c59"
      },
      "source": [
        "def square_numbers(numbers):\n",
        "  \"\"\"\n",
        "  Calculates the square of each number in a list and returns a new list.\n",
        "\n",
        "  Args:\n",
        "    numbers: A list of integers.\n",
        "\n",
        "  Returns:\n",
        "    A new list containing the squares of each number.\n",
        "  \"\"\"\n",
        "  squared_list = []\n",
        "  for number in numbers:\n",
        "    squared_list.append(number ** 2)\n",
        "  return squared_list\n",
        "\n",
        "# Example usage:\n",
        "my_numbers = [1, 2, 3, 4, 5]\n",
        "squared_result = square_numbers(my_numbers)\n",
        "print(f\"Original list: {my_numbers}\")\n",
        "print(f\"Squared list: {squared_result}\")\n"
      ],
      "execution_count": 6,
      "outputs": [
        {
          "output_type": "stream",
          "name": "stdout",
          "text": [
            "Original list: [1, 2, 3, 4, 5]\n",
            "Squared list: [1, 4, 9, 16, 25]\n"
          ]
        }
      ]
    },
    {
      "cell_type": "markdown",
      "source": [
        "4. Write a Python function that checks if a given number is prime or not from 1 to 200."
      ],
      "metadata": {
        "id": "b3QR_p_ggaOH"
      }
    },
    {
      "cell_type": "code",
      "metadata": {
        "colab": {
          "base_uri": "https://localhost:8080/"
        },
        "id": "6fdd6f4b",
        "outputId": "61e950fb-084a-44b4-ccf4-02923671c0e6"
      },
      "source": [
        "def is_prime(number):\n",
        "  \"\"\"\n",
        "  Checks if a given number between 1 and 200 is prime.\n",
        "\n",
        "  Args:\n",
        "    number: An integer between 1 and 200.\n",
        "\n",
        "  Returns:\n",
        "    True if the number is prime, False otherwise.\n",
        "  \"\"\"\n",
        "  if not (1 <= number <= 200):\n",
        "    return \"Input out of range (1-200)\"\n",
        "  if number <= 1:\n",
        "    return False  # Numbers less than or equal to 1 are not prime\n",
        "  if number <= 3:\n",
        "    return True   # 2 and 3 are prime\n",
        "\n",
        "  # Check for divisibility from 5 up to the square root of the number\n",
        "  # We can skip even numbers and check only odd numbers starting from 5\n",
        "  i = 5\n",
        "  while i * i <= number:\n",
        "    if number % i == 0 or number % (i + 2) == 0:\n",
        "      return False\n",
        "    i += 6  # Check next pair of potential factors (i and i+2)\n",
        "\n",
        "  return True\n",
        "\n",
        "# Example usage:\n",
        "print(f\"Is 7 prime? {is_prime(7)}\")\n",
        "print(f\"Is 10 prime? {is_prime(10)}\")\n",
        "print(f\"Is 17 prime? {is_prime(17)}\")\n",
        "print(f\"Is 1 prime? {is_prime(1)}\")\n",
        "print(f\"Is 2 prime? {is_prime(2)}\")\n",
        "print(f\"Is 200 prime? {is_prime(200)}\")\n",
        "print(f\"Is 199 prime? {is_prime(199)}\")\n",
        "print(f\"Is 0 prime? {is_prime(0)}\")\n",
        "print(f\"Is 250 prime? {is_prime(250)}\")"
      ],
      "execution_count": 7,
      "outputs": [
        {
          "output_type": "stream",
          "name": "stdout",
          "text": [
            "Is 7 prime? True\n",
            "Is 10 prime? True\n",
            "Is 17 prime? True\n",
            "Is 1 prime? False\n",
            "Is 2 prime? True\n",
            "Is 200 prime? False\n",
            "Is 199 prime? True\n",
            "Is 0 prime? Input out of range (1-200)\n",
            "Is 250 prime? Input out of range (1-200)\n"
          ]
        }
      ]
    },
    {
      "cell_type": "markdown",
      "source": [
        "5.Create an iterator class in Python that generates the Fibonacci sequence up to a specified number of\n",
        "terms."
      ],
      "metadata": {
        "id": "z3oy7IX_g5xq"
      }
    },
    {
      "cell_type": "code",
      "metadata": {
        "colab": {
          "base_uri": "https://localhost:8080/"
        },
        "id": "4b06727a",
        "outputId": "460e4379-7eae-4dcb-a533-63ae78718392"
      },
      "source": [
        "class FibonacciIterator:\n",
        "  \"\"\"\n",
        "  An iterator class to generate the Fibonacci sequence up to a specified number of terms.\n",
        "  \"\"\"\n",
        "  def __init__(self, num_terms):\n",
        "    if num_terms <= 0:\n",
        "      raise ValueError(\"Number of terms must be a positive integer\")\n",
        "    self.num_terms = num_terms\n",
        "    self.current_term = 0\n",
        "    self.a = 0\n",
        "    self.b = 1\n",
        "\n",
        "  def __iter__(self):\n",
        "    return self\n",
        "\n",
        "  def __next__(self):\n",
        "    if self.current_term < self.num_terms:\n",
        "      if self.current_term == 0:\n",
        "        self.current_term += 1\n",
        "        return self.a\n",
        "      elif self.current_term == 1:\n",
        "        self.current_term += 1\n",
        "        return self.b\n",
        "      else:\n",
        "        next_fib = self.a + self.b\n",
        "        self.a = self.b\n",
        "        self.b = next_fib\n",
        "        self.current_term += 1\n",
        "        return next_fib\n",
        "    else:\n",
        "      raise StopIteration\n",
        "\n",
        "# Example usage:\n",
        "fib_iterator = FibonacciIterator(10)\n",
        "\n",
        "print(\"Fibonacci sequence up to 10 terms:\")\n",
        "for fib_number in fib_iterator:\n",
        "  print(fib_number)\n",
        "\n",
        "# Example with a different number of terms:\n",
        "print(\"\\nFibonacci sequence up to 5 terms:\")\n",
        "for fib_number in FibonacciIterator(5):\n",
        "    print(fib_number)"
      ],
      "execution_count": 8,
      "outputs": [
        {
          "output_type": "stream",
          "name": "stdout",
          "text": [
            "Fibonacci sequence up to 10 terms:\n",
            "0\n",
            "1\n",
            "1\n",
            "2\n",
            "3\n",
            "5\n",
            "8\n",
            "13\n",
            "21\n",
            "34\n",
            "\n",
            "Fibonacci sequence up to 5 terms:\n",
            "0\n",
            "1\n",
            "1\n",
            "2\n",
            "3\n"
          ]
        }
      ]
    },
    {
      "cell_type": "markdown",
      "source": [
        "6. Write a generator function in Python that yields the powers of 2 up to a given exponent."
      ],
      "metadata": {
        "id": "vcMcWqYzhPV-"
      }
    },
    {
      "cell_type": "code",
      "metadata": {
        "colab": {
          "base_uri": "https://localhost:8080/"
        },
        "id": "42fc25ea",
        "outputId": "dbef1bfc-dab8-48c0-cc3e-bb485bd85b4d"
      },
      "source": [
        "def powers_of_two(max_exponent):\n",
        "  \"\"\"\n",
        "  A generator function that yields powers of 2 up to a given exponent.\n",
        "\n",
        "  Args:\n",
        "    max_exponent: The maximum exponent (inclusive) for the powers of 2.\n",
        "\n",
        "  Yields:\n",
        "    The next power of 2.\n",
        "  \"\"\"\n",
        "  for i in range(max_exponent + 1):\n",
        "    yield 2**i\n",
        "\n",
        "# Example usage:\n",
        "powers_gen = powers_of_two(5)\n",
        "\n",
        "print(\"Powers of 2 up to exponent 5:\")\n",
        "for power in powers_gen:\n",
        "  print(power)\n",
        "\n",
        "print(\"\\nPowers of 2 up to exponent 3:\")\n",
        "for power in powers_of_two(3):\n",
        "    print(power)"
      ],
      "execution_count": 9,
      "outputs": [
        {
          "output_type": "stream",
          "name": "stdout",
          "text": [
            "Powers of 2 up to exponent 5:\n",
            "1\n",
            "2\n",
            "4\n",
            "8\n",
            "16\n",
            "32\n",
            "\n",
            "Powers of 2 up to exponent 3:\n",
            "1\n",
            "2\n",
            "4\n",
            "8\n"
          ]
        }
      ]
    },
    {
      "cell_type": "markdown",
      "source": [
        "7. Implement a generator function that reads a file line by line and yields each line as a string."
      ],
      "metadata": {
        "id": "hs_F_14GhpSz"
      }
    },
    {
      "cell_type": "code",
      "metadata": {
        "colab": {
          "base_uri": "https://localhost:8080/"
        },
        "id": "36e43611",
        "outputId": "a19bc8ff-b8ae-4869-e93b-e29f2ea1e746"
      },
      "source": [
        "def read_file_line_by_line(file_path):\n",
        "  \"\"\"\n",
        "  A generator function that reads a file line by line and yields each line.\n",
        "\n",
        "  Args:\n",
        "    file_path: The path to the file to read.\n",
        "\n",
        "  Yields:\n",
        "    Each line of the file as a string.\n",
        "  \"\"\"\n",
        "  try:\n",
        "    with open(file_path, 'r') as f:\n",
        "      for line in f:\n",
        "        yield line.strip() # .strip() removes leading/trailing whitespace, including newline characters\n",
        "  except FileNotFoundError:\n",
        "    print(f\"Error: The file '{file_path}' was not found.\")\n",
        "  except Exception as e:\n",
        "    print(f\"An error occurred: {e}\")\n",
        "\n",
        "# Example usage:\n",
        "file_generator = read_file_line_by_line(\"my_example_file.txt\")\n",
        "\n",
        "print(\"Reading file line by line:\")\n",
        "for line in file_generator:\n",
        "  print(line)\n",
        "\n",
        "# Example with a non-existent file:\n",
        "print(\"\\nAttempting to read a non-existent file:\")\n",
        "non_existent_file_generator = read_file_line_by_line(\"non_existent_file.txt\")\n",
        "for line in non_existent_file_generator:\n",
        "  print(line) # This loop will not execute due to the error handling"
      ],
      "execution_count": 12,
      "outputs": [
        {
          "output_type": "stream",
          "name": "stdout",
          "text": [
            "Reading file line by line:\n",
            "This is the first line.\n",
            "This is the second line.\n",
            "And this is the third line.\n",
            "\n",
            "Attempting to read a non-existent file:\n",
            "Error: The file 'non_existent_file.txt' was not found.\n"
          ]
        }
      ]
    },
    {
      "cell_type": "markdown",
      "source": [
        "8. Use a lambda function in Python to sort a list of tuples based on the second element of each tuple."
      ],
      "metadata": {
        "id": "-vA-3AIxh-Q3"
      }
    },
    {
      "cell_type": "code",
      "metadata": {
        "colab": {
          "base_uri": "https://localhost:8080/"
        },
        "id": "d59e3569",
        "outputId": "1245e121-8619-4abf-8a3c-dec81f0c3011"
      },
      "source": [
        "# A list of tuples\n",
        "my_list = [(1, 'banana'), (3, 'apple'), (2, 'cherry'), (4, 'date')]\n",
        "\n",
        "# Sort the list of tuples based on the second element using a lambda function\n",
        "# The lambda function takes a tuple 'item' and returns the second element (item[1])\n",
        "sorted_list = sorted(my_list, key=lambda item: item[1])\n",
        "\n",
        "print(\"Original list:\", my_list)\n",
        "print(\"Sorted list (by second element):\", sorted_list)\n",
        "\n",
        "# Example with numbers as the second element\n",
        "my_list_2 = [('A', 100), ('B', 50), ('C', 200), ('D', 75)]\n",
        "sorted_list_2 = sorted(my_list_2, key=lambda item: item[1])\n",
        "\n",
        "print(\"\\nOriginal list 2:\", my_list_2)\n",
        "print(\"Sorted list 2 (by second element):\", sorted_list_2)"
      ],
      "execution_count": 13,
      "outputs": [
        {
          "output_type": "stream",
          "name": "stdout",
          "text": [
            "Original list: [(1, 'banana'), (3, 'apple'), (2, 'cherry'), (4, 'date')]\n",
            "Sorted list (by second element): [(3, 'apple'), (1, 'banana'), (2, 'cherry'), (4, 'date')]\n",
            "\n",
            "Original list 2: [('A', 100), ('B', 50), ('C', 200), ('D', 75)]\n",
            "Sorted list 2 (by second element): [('B', 50), ('D', 75), ('A', 100), ('C', 200)]\n"
          ]
        }
      ]
    },
    {
      "cell_type": "markdown",
      "source": [
        "9.Write a Python program that uses `map()` to convert a list of temperatures from Celsius to Fahrenheit."
      ],
      "metadata": {
        "id": "mlbn34X4iTFp"
      }
    },
    {
      "cell_type": "markdown",
      "source": [],
      "metadata": {
        "id": "IO8jCo4qiS5n"
      }
    },
    {
      "cell_type": "code",
      "metadata": {
        "colab": {
          "base_uri": "https://localhost:8080/"
        },
        "id": "7166ae57",
        "outputId": "99ee1e70-42e0-459e-c1fb-17b50ee38c08"
      },
      "source": [
        "# List of temperatures in Celsius\n",
        "celsius_temperatures = [0, 10, 20, 30, 40, -10, 100]\n",
        "\n",
        "# Conversion function for Celsius to Fahrenheit: (C * 9/5) + 32\n",
        "def celsius_to_fahrenheit(celsius):\n",
        "  return (celsius * 9/5) + 32\n",
        "\n",
        "# Use map() to apply the conversion function to each Celsius temperature\n",
        "fahrenheit_temperatures_iterator = map(celsius_to_fahrenheit, celsius_temperatures)\n",
        "\n",
        "# Convert the iterator to a list to display the results\n",
        "fahrenheit_temperatures_list = list(fahrenheit_temperatures_iterator)\n",
        "\n",
        "print(\"Celsius Temperatures:\", celsius_temperatures)\n",
        "print(\"Fahrenheit Temperatures:\", fahrenheit_temperatures_list)\n",
        "\n",
        "# You could also use a lambda function directly with map:\n",
        "# fahrenheit_temperatures_lambda = list(map(lambda c: (c * 9/5) + 32, celsius_temperatures))\n",
        "# print(\"\\nFahrenheit Temperatures (using lambda):\", fahrenheit_temperatures_lambda)"
      ],
      "execution_count": 14,
      "outputs": [
        {
          "output_type": "stream",
          "name": "stdout",
          "text": [
            "Celsius Temperatures: [0, 10, 20, 30, 40, -10, 100]\n",
            "Fahrenheit Temperatures: [32.0, 50.0, 68.0, 86.0, 104.0, 14.0, 212.0]\n"
          ]
        }
      ]
    },
    {
      "cell_type": "markdown",
      "source": [
        "10.Create a Python program that uses `filter()` to remove all the vowels from a given string."
      ],
      "metadata": {
        "id": "q0sYGPq4ifNK"
      }
    },
    {
      "cell_type": "code",
      "metadata": {
        "colab": {
          "base_uri": "https://localhost:8080/"
        },
        "id": "9733e600",
        "outputId": "d5cd22df-35d5-4d5e-b84a-66a0f9751b82"
      },
      "source": [
        "# The input string\n",
        "input_string = \"Hello World and Python Programming\"\n",
        "\n",
        "# Define a function to check if a character is a vowel\n",
        "def is_not_vowel(char):\n",
        "  vowels = \"aeiouAEIOU\"\n",
        "  return char not in vowels\n",
        "\n",
        "# Use filter() to keep only the characters that are not vowels\n",
        "# filter() returns an iterator of the filtered characters\n",
        "filtered_characters_iterator = filter(is_not_vowel, input_string)\n",
        "\n",
        "# Join the filtered characters back into a string\n",
        "string_without_vowels = \"\".join(filtered_characters_iterator)\n",
        "\n",
        "print(\"Original string:\", input_string)\n",
        "print(\"String without vowels:\", string_without_vowels)\n",
        "\n",
        "# You can also use a lambda function directly:\n",
        "# string_without_vowels_lambda = \"\".join(filter(lambda char: char.lower() not in \"aeiou\", input_string))\n",
        "# print(\"\\nString without vowels (using lambda):\", string_without_vowels_lambda)"
      ],
      "execution_count": 15,
      "outputs": [
        {
          "output_type": "stream",
          "name": "stdout",
          "text": [
            "Original string: Hello World and Python Programming\n",
            "String without vowels: Hll Wrld nd Pythn Prgrmmng\n"
          ]
        }
      ]
    }
  ]
}